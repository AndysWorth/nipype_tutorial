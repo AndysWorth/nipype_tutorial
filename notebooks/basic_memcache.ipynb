{
 "cells": [
  {
   "cell_type": "markdown",
   "metadata": {},
   "source": [
    "# Memory caching\n",
    "\n",
    "In [Workflow notebook](basic_worflow.ipynb) you larned about ``Workflows`` that specify processing by an execution graph and offer efficient recomputing. However, sometimes you might want to use ``Interfaces`` that give better control of the execution of each step and can be easily combine with any Python code. Unfortunately, ``Interfaces`` do not offer any caching and you always dully recompute your task. \n",
    "\n",
    "Solution to this problem can be a ``caching`` mechanism supported by Nipype. Nipype caching relies on the ``Memory`` class and creates an execution context that is bound to a disk cache.\n",
    "When you instantiate the class you should provide ``base_dir`` and additional subdirectory called ``nipype_mem`` will be automatically created. "
   ]
  },
  {
   "cell_type": "code",
   "execution_count": 1,
   "metadata": {},
   "outputs": [],
   "source": [
    "from nipype.caching import Memory\n",
    "mem = Memory(base_dir='/output/workingdir')"
   ]
  },
  {
   "cell_type": "markdown",
   "metadata": {},
   "source": [
    "If we want to ask for caching for the ``BET`` interface, we can use ``cache`` method that takes interfaces classes as an argument."
   ]
  },
  {
   "cell_type": "code",
   "execution_count": 3,
   "metadata": {},
   "outputs": [],
   "source": [
    "from nipype.interfaces import fsl\n",
    "bet_mem = mem.cache(fsl.BET)"
   ]
  },
  {
   "cell_type": "markdown",
   "metadata": {},
   "source": [
    "Now, ``bet_mem`` can be applied as a function with inputs of the ``BET`` interface as the function arguments. Those inputs are given as keyword arguments, bearing the same name as the name in the inputs specs of the interface."
   ]
  },
  {
   "cell_type": "code",
   "execution_count": 4,
   "metadata": {},
   "outputs": [
    {
     "name": "stdout",
     "output_type": "stream",
     "text": [
      "170809-21:22:39,27 workflow INFO:\n",
      "\t Executing node 0cb4fbaf1687a0cccdf631a94c9deece in dir: /output/workingdir/nipype_mem/nipype-interfaces-fsl-preprocess-BET/0cb4fbaf1687a0cccdf631a94c9deece\n",
      "170809-21:22:39,88 workflow INFO:\n",
      "\t Running: bet /data/ds000114/sub-02/ses-test/anat/sub-02_ses-test_T1w.nii.gz /output/sub-02_T1w_brain.nii.gz -m\n"
     ]
    },
    {
     "data": {
      "text/plain": [
       "<nipype.interfaces.base.InterfaceResult at 0x7fb1a3c3de48>"
      ]
     },
     "execution_count": 4,
     "metadata": {},
     "output_type": "execute_result"
    }
   ],
   "source": [
    "bet_mem(in_file=\"/data/ds000114/sub-02/ses-test/anat/sub-02_ses-test_T1w.nii.gz\",\n",
    "        out_file=\"/output/sub-02_T1w_brain.nii.gz\",\n",
    "        mask=True)"
   ]
  },
  {
   "cell_type": "markdown",
   "metadata": {},
   "source": [
    "As you can seen ``bet`` command was called as expected. We can now check the content of caching file:"
   ]
  },
  {
   "cell_type": "code",
   "execution_count": 5,
   "metadata": {},
   "outputs": [
    {
     "name": "stdout",
     "output_type": "stream",
     "text": [
      "total 4\r\n",
      "drwxr-xr-x 3 neuro users 102 Aug  9 21:22 log.2017\r\n",
      "-rw-r--r-- 1 neuro users  70 Aug  9 21:22 log.current\r\n",
      "drwxr-xr-x 3 neuro users 102 Aug  9 21:22 nipype-interfaces-fsl-preprocess-BET\r\n"
     ]
    }
   ],
   "source": [
    "! ls -l /output/workingdir/nipype_mem"
   ]
  },
  {
   "cell_type": "markdown",
   "metadata": {},
   "source": [
    "A special subdirectory for our interface has beeen created."
   ]
  },
  {
   "cell_type": "markdown",
   "metadata": {},
   "source": [
    "Now, let's try to run the interface again for the same subject:"
   ]
  },
  {
   "cell_type": "code",
   "execution_count": 8,
   "metadata": {},
   "outputs": [
    {
     "name": "stdout",
     "output_type": "stream",
     "text": [
      "170809-21:30:58,228 workflow INFO:\n",
      "\t Executing node 0cb4fbaf1687a0cccdf631a94c9deece in dir: /output/workingdir/nipype_mem/nipype-interfaces-fsl-preprocess-BET/0cb4fbaf1687a0cccdf631a94c9deece\n",
      "170809-21:30:58,253 workflow INFO:\n",
      "\t Collecting precomputed outputs\n"
     ]
    },
    {
     "data": {
      "text/plain": [
       "<nipype.interfaces.base.InterfaceResult at 0x7fb1a3c3d630>"
      ]
     },
     "execution_count": 8,
     "metadata": {},
     "output_type": "execute_result"
    }
   ],
   "source": [
    "bet_mem(in_file=\"/data/ds000114/sub-02/ses-test/anat/sub-02_ses-test_T1w.nii.gz\",\n",
    "        out_file=\"/output/sub-02_T1w_brain.nii.gz\",\n",
    "        mask=True)"
   ]
  },
  {
   "cell_type": "markdown",
   "metadata": {},
   "source": [
    "As you can see, Nipype didn't run the interface again, but collected previously calculated results."
   ]
  },
  {
   "cell_type": "markdown",
   "metadata": {},
   "source": [
    "If we're having problem and want to read crash file, we can use ``runtime.cwd``. DJ - TODO: doesn't work"
   ]
  },
  {
   "cell_type": "code",
   "execution_count": 19,
   "metadata": {},
   "outputs": [
    {
     "ename": "TraitError",
     "evalue": "The trait 'in_file' of a BETInputSpec instance is an existing file name, but the path  '/data/ds000114/sub-01/ses-test/anat/sub-001_ses-test_T1w.nii.gz' does not exist.",
     "output_type": "error",
     "traceback": [
      "\u001b[0;31m---------------------------------------------------------------------------\u001b[0m",
      "\u001b[0;31mTraitError\u001b[0m                                Traceback (most recent call last)",
      "\u001b[0;32m<ipython-input-19-f9fd58e0357c>\u001b[0m in \u001b[0;36m<module>\u001b[0;34m()\u001b[0m\n\u001b[1;32m      1\u001b[0m res = bet_mem(in_file=\"/data/ds000114/sub-01/ses-test/anat/sub-001_ses-test_T1w.nii.gz\",\n\u001b[1;32m      2\u001b[0m     \u001b[0mout_file\u001b[0m\u001b[0;34m=\u001b[0m\u001b[0;34m\"/output/test_sub-01_T1w_brain.nii.gz\"\u001b[0m\u001b[0;34m,\u001b[0m\u001b[0;34m\u001b[0m\u001b[0m\n\u001b[0;32m----> 3\u001b[0;31m     mask=True)\n\u001b[0m",
      "\u001b[0;32m/opt/conda/envs/neuro/lib/python3.6/site-packages/nipype/caching/memory.py\u001b[0m in \u001b[0;36m__call__\u001b[0;34m(self, **kwargs)\u001b[0m\n\u001b[1;32m     71\u001b[0m         \u001b[0minterface\u001b[0m \u001b[0;34m=\u001b[0m \u001b[0mself\u001b[0m\u001b[0;34m.\u001b[0m\u001b[0minterface\u001b[0m\u001b[0;34m(\u001b[0m\u001b[0;34m)\u001b[0m\u001b[0;34m\u001b[0m\u001b[0m\n\u001b[1;32m     72\u001b[0m         \u001b[0;31m# Set the inputs early to get some argument checking\u001b[0m\u001b[0;34m\u001b[0m\u001b[0;34m\u001b[0m\u001b[0m\n\u001b[0;32m---> 73\u001b[0;31m         \u001b[0minterface\u001b[0m\u001b[0;34m.\u001b[0m\u001b[0minputs\u001b[0m\u001b[0;34m.\u001b[0m\u001b[0mtrait_set\u001b[0m\u001b[0;34m(\u001b[0m\u001b[0;34m**\u001b[0m\u001b[0mkwargs\u001b[0m\u001b[0;34m)\u001b[0m\u001b[0;34m\u001b[0m\u001b[0m\n\u001b[0m\u001b[1;32m     74\u001b[0m         \u001b[0;31m# Make a name for our node\u001b[0m\u001b[0;34m\u001b[0m\u001b[0;34m\u001b[0m\u001b[0m\n\u001b[1;32m     75\u001b[0m         \u001b[0minputs\u001b[0m \u001b[0;34m=\u001b[0m \u001b[0minterface\u001b[0m\u001b[0;34m.\u001b[0m\u001b[0minputs\u001b[0m\u001b[0;34m.\u001b[0m\u001b[0mget_hashval\u001b[0m\u001b[0;34m(\u001b[0m\u001b[0;34m)\u001b[0m\u001b[0;34m\u001b[0m\u001b[0m\n",
      "\u001b[0;32m/opt/conda/envs/neuro/lib/python3.6/site-packages/traits/has_traits.py\u001b[0m in \u001b[0;36mtrait_set\u001b[0;34m(self, trait_change_notify, **traits)\u001b[0m\n\u001b[1;32m   1541\u001b[0m         \u001b[0;32melse\u001b[0m\u001b[0;34m:\u001b[0m\u001b[0;34m\u001b[0m\u001b[0m\n\u001b[1;32m   1542\u001b[0m             \u001b[0;32mfor\u001b[0m \u001b[0mname\u001b[0m\u001b[0;34m,\u001b[0m \u001b[0mvalue\u001b[0m \u001b[0;32min\u001b[0m \u001b[0mlist\u001b[0m\u001b[0;34m(\u001b[0m\u001b[0mtraits\u001b[0m\u001b[0;34m.\u001b[0m\u001b[0mitems\u001b[0m\u001b[0;34m(\u001b[0m\u001b[0;34m)\u001b[0m\u001b[0;34m)\u001b[0m\u001b[0;34m:\u001b[0m\u001b[0;34m\u001b[0m\u001b[0m\n\u001b[0;32m-> 1543\u001b[0;31m                 \u001b[0msetattr\u001b[0m\u001b[0;34m(\u001b[0m \u001b[0mself\u001b[0m\u001b[0;34m,\u001b[0m \u001b[0mname\u001b[0m\u001b[0;34m,\u001b[0m \u001b[0mvalue\u001b[0m \u001b[0;34m)\u001b[0m\u001b[0;34m\u001b[0m\u001b[0m\n\u001b[0m\u001b[1;32m   1544\u001b[0m \u001b[0;34m\u001b[0m\u001b[0m\n\u001b[1;32m   1545\u001b[0m         \u001b[0;32mreturn\u001b[0m \u001b[0mself\u001b[0m\u001b[0;34m\u001b[0m\u001b[0m\n",
      "\u001b[0;32m/opt/conda/envs/neuro/lib/python3.6/site-packages/nipype/interfaces/traits_extension.py\u001b[0m in \u001b[0;36mvalidate\u001b[0;34m(self, object, name, value)\u001b[0m\n\u001b[1;32m     90\u001b[0m                 \u001b[0margs\u001b[0m\u001b[0;34m=\u001b[0m\u001b[0;34m'The trait \\'{}\\' of {} instance is {}, but the path '\u001b[0m\u001b[0;34m\u001b[0m\u001b[0m\n\u001b[1;32m     91\u001b[0m                      ' \\'{}\\' does not exist.'.format(name, class_of(object),\n\u001b[0;32m---> 92\u001b[0;31m                                                       self.info_text, value))\n\u001b[0m\u001b[1;32m     93\u001b[0m \u001b[0;34m\u001b[0m\u001b[0m\n\u001b[1;32m     94\u001b[0m         \u001b[0mself\u001b[0m\u001b[0;34m.\u001b[0m\u001b[0merror\u001b[0m\u001b[0;34m(\u001b[0m\u001b[0mobject\u001b[0m\u001b[0;34m,\u001b[0m \u001b[0mname\u001b[0m\u001b[0;34m,\u001b[0m \u001b[0mvalue\u001b[0m\u001b[0;34m)\u001b[0m\u001b[0;34m\u001b[0m\u001b[0m\n",
      "\u001b[0;31mTraitError\u001b[0m: The trait 'in_file' of a BETInputSpec instance is an existing file name, but the path  '/data/ds000114/sub-01/ses-test/anat/sub-001_ses-test_T1w.nii.gz' does not exist."
     ]
    }
   ],
   "source": [
    "res = bet_mem(in_file=\"/data/ds000114/sub-01/ses-test/anat/sub-001_ses-test_T1w.nii.gz\",\n",
    "    out_file=\"/output/test_sub-01_T1w_brain.nii.gz\",\n",
    "    mask=True)"
   ]
  },
  {
   "cell_type": "code",
   "execution_count": 20,
   "metadata": {},
   "outputs": [
    {
     "ename": "NameError",
     "evalue": "name 'res' is not defined",
     "output_type": "error",
     "traceback": [
      "\u001b[0;31m---------------------------------------------------------------------------\u001b[0m",
      "\u001b[0;31mNameError\u001b[0m                                 Traceback (most recent call last)",
      "\u001b[0;32m<ipython-input-20-d839131d130f>\u001b[0m in \u001b[0;36m<module>\u001b[0;34m()\u001b[0m\n\u001b[0;32m----> 1\u001b[0;31m \u001b[0mres\u001b[0m\u001b[0;34m.\u001b[0m\u001b[0mruntime\u001b[0m\u001b[0;34m.\u001b[0m\u001b[0mcwd\u001b[0m\u001b[0;34m\u001b[0m\u001b[0m\n\u001b[0m",
      "\u001b[0;31mNameError\u001b[0m: name 'res' is not defined"
     ]
    }
   ],
   "source": [
    "res.runtime.cwd"
   ]
  },
  {
   "cell_type": "markdown",
   "metadata": {},
   "source": [
    "If you created cached results that you're not going reuse, you should flush the cache using [Memory.clear_previous_runs()](http://nipy.org/nipype/0.10.0/users/caching_tutorial.html#nipype.caching.Memory.clear_previous_runs) or [Memory.clear_runs_since()](http://nipy.org/nipype/0.10.0/users/caching_tutorial.html#nipype.caching.Memory.clear_runs_since).\n",
    "DJ TODO: don't know how to use it - output is still collected from the cashing directory."
   ]
  },
  {
   "cell_type": "code",
   "execution_count": null,
   "metadata": {},
   "outputs": [],
   "source": []
  }
 ],
 "metadata": {
  "kernelspec": {
   "display_name": "Python 3",
   "language": "python",
   "name": "python3"
  },
  "language_info": {
   "codemirror_mode": {
    "name": "ipython",
    "version": 3
   },
   "file_extension": ".py",
   "mimetype": "text/x-python",
   "name": "python",
   "nbconvert_exporter": "python",
   "pygments_lexer": "ipython3",
   "version": "3.6.2"
  }
 },
 "nbformat": 4,
 "nbformat_minor": 2
}
