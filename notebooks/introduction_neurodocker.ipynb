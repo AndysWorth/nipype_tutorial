{
 "cells": [
  {
   "cell_type": "markdown",
   "metadata": {},
   "source": [
    "# Neurodocker tutorial\n",
    "\n",
    "[Neurodocker](https://github.com/kaczmarj/neurodocker) is a brilliant tool to create your own neuroimaging docker container. [Neurodocker](https://github.com/kaczmarj/neurodocker) is a command-line program that enables users to generate [Docker](http://www.docker.io/) containers that include neuroimaging software. These containers can be\n",
    "converted to [Singularity](http://singularity.lbl.gov/) containers for use in high-performance computing\n",
    "centers.\n",
    "\n",
    "Requirements:\n",
    "\n",
    "* [Docker](http://www.docker.io/)\n",
    "* Internet connection"
   ]
  },
  {
   "cell_type": "markdown",
   "metadata": {},
   "source": [
    "## Usage\n",
    "\n",
    "To view the Neurodocker help message\n",
    "\n",
    "    docker run --rm kaczmarj/neurodocker:v0.3.2 generate --help\n",
    "\n",
    "1. Users must specify a base Docker image and the package manager. Any Docker\n",
    "   image on DockerHub can be used as your base image. Common base images\n",
    "   include ``debian:stretch``, ``ubuntu:16.04``, ``centos:7``, and the various\n",
    "   ``neurodebian`` images. If users would like to install software from the\n",
    "   NeuroDebian repositories, it is recommended to use a ``neurodebian`` base\n",
    "   image. The package manager is ``apt`` or ``yum``, depending on the base\n",
    "   image.\n",
    "2. Next, users should configure the container to fit their needs. This includes\n",
    "   installing neuroimaging software, installing packages from the chosen package\n",
    "   manager, installing Python and Python packages, copying files from the local\n",
    "   machine into the container, and other operations. The list of supported\n",
    "   neuroimaging software packages is available in the ``neurodocker`` help\n",
    "   message.\n",
    "3. The ``neurodocker`` command will generate a Dockerfile. This Dockerfile can\n",
    "   be used to build a Docker image with the ``docker build`` command."
   ]
  },
  {
   "cell_type": "markdown",
   "metadata": {},
   "source": [
    "## Create a Dockerfile with FSL, Python 3.6, and Nipype\n",
    "\n",
    "This command prints a Dockerfile (the specification for a Docker image) to the\n",
    "terminal.\n",
    "\n",
    "    docker run --rm kaczmarj/neurodocker:v0.3.2 generate \\\n",
    "               --base debian:stretch --pkg-manager apt \\\n",
    "               --fsl version=5.0.10 \\\n",
    "               --miniconda env_name=neuro \\\n",
    "                           conda_install=\"python=3.6 traits\" \\\n",
    "                           pip_install=\"nipype\""
   ]
  },
  {
   "cell_type": "markdown",
   "metadata": {},
   "source": [
    "## Build the Docker image\n",
    "\n",
    "The Dockerfile can be saved and used to build the Docker image\n",
    "\n",
    "    docker run --rm kaczmarj/neurodocker:v0.3.2 generate \\\n",
    "               --base debian:stretch --pkg-manager apt \\\n",
    "               --fsl version=5.0.10 \\\n",
    "               --miniconda env_name=neuro \\\n",
    "                           conda_install=\"python=3.6 traits\" \\\n",
    "                           pip_install=\"nipype\" > Dockerfile\n",
    "\n",
    "    docker build --tag my_image .\n",
    "    # or\n",
    "    docker build --tag my_image - < Dockerfile"
   ]
  },
  {
   "cell_type": "markdown",
   "metadata": {},
   "source": [
    "## Use NeuroDebian\n",
    "\n",
    "This example installs AFNI and ANTs from the NeuroDebian repositories. It also\n",
    "installs ``git`` and ``vim``.\n",
    "\n",
    "    docker run --rm kaczmarj/neurodocker:v0.3.2 generate \\\n",
    "               --base neurodebian:stretch --pkg-manager apt \\\n",
    "               --install afni ants git vim\n",
    "\n",
    "**Note**: the ``--install`` option will install software using the package manager.\n",
    "Because the NeuroDebian repositories are enabled in the chosen base image, AFNI\n",
    "and ANTs may be installed using the package manager. ``git`` and ``vim`` are\n",
    "available in the default repositories."
   ]
  },
  {
   "cell_type": "markdown",
   "metadata": {},
   "source": [
    "## Other examples\n",
    "\n",
    "Create a container with ``dcm2niix``, Nipype, and jupyter notebook. Install\n",
    "Miniconda as a non-root user, and activate the Miniconda environment upon\n",
    "running the container.\n",
    "\n",
    "    docker run --rm kaczmarj/neurodocker:v0.3.2 generate \\\n",
    "               --base centos:7 --pkg-manager yum \\\n",
    "               --dcm2niix version=master \\\n",
    "               --user neuro \\\n",
    "               --miniconda env_name=neuro conda_install=\"jupyter traits nipype\" \\\n",
    "               > Dockerfile\n",
    "    docker build --tag my_nipype - < Dockerfile\n",
    "\n",
    "Copy local files into a container.\n",
    "\n",
    "    docker run --rm kaczmarj/neurodocker:v0.3.2 generate \\\n",
    "               --base ubuntu:16.04 --pkg-manager apt \\\n",
    "               --copy relative/path/to/source.txt /absolute/path/to/destination.txt"
   ]
  }
 ],
 "metadata": {
  "kernelspec": {
   "display_name": "Python [default]",
   "language": "python",
   "name": "python3"
  },
  "language_info": {
   "codemirror_mode": {
    "name": "ipython",
    "version": 3
   },
   "file_extension": ".py",
   "mimetype": "text/x-python",
   "name": "python",
   "nbconvert_exporter": "python",
   "pygments_lexer": "ipython3",
   "version": "3.6.5"
  }
 },
 "nbformat": 4,
 "nbformat_minor": 2
}
