{
 "cells": [
  {
   "cell_type": "markdown",
   "metadata": {},
   "source": [
    "# Function Node\n",
    "\n",
    "Satra once called the `Function` module, the \"do anything you want card\". Which is a perfect description. Because it allows you to put any code you want into an empty node, which you than can put in your workflow exactly where it needs to be.\n",
    "\n",
    "You might have already seen the `Function` module in the [example section in the Node tutorial](basic_nodes.ipynb#Example-of-a-simple-node). Let's take a closer look at it again."
   ]
  },
  {
   "cell_type": "code",
   "execution_count": null,
   "metadata": {},
   "outputs": [],
   "source": [
    "# Import Node and Function module\n",
    "from nipype import Node, Function\n",
    "\n",
    "# Create a small example function\n",
    "def add_two(x_input):\n",
    "    return x_input + 2\n",
    "\n",
    "# Create Node\n",
    "addtwo = Node(Function(input_names=[\"x_input\"],\n",
    "                       output_names=[\"val_output\"],\n",
    "                       function=add_two),\n",
    "              name='add_node')\n",
    "\n",
    "addtwo.inputs.x_input =4\n",
    "addtwo.run()\n",
    "addtwo.result.outputs"
   ]
  },
  {
   "cell_type": "markdown",
   "metadata": {},
   "source": [
    "You need to be careful that the name of the input paramter to the node is the same name as the input parameter to the function, i.e. `x_input`. But you don't have to specify `input_names` or `output_names`. You can also just use:"
   ]
  },
  {
   "cell_type": "code",
   "execution_count": null,
   "metadata": {},
   "outputs": [],
   "source": [
    "addtwo = Node(Function(function=add_two), name='add_node')\n",
    "addtwo.inputs.x_input =4\n",
    "addtwo.run()\n",
    "addtwo.result.outputs"
   ]
  },
  {
   "cell_type": "markdown",
   "metadata": {},
   "source": [
    "# Important - Function Nodes are closed environments\n",
    "\n",
    "There's only one trap that you should be aware of when using the `Function` module.\n",
    "\n",
    "If you want to use another module inside a function, you have to import it again inside the function. Let's take a look at the following example:"
   ]
  },
  {
   "cell_type": "code",
   "execution_count": null,
   "metadata": {},
   "outputs": [],
   "source": [
    "from nipype import Node, Function\n",
    "\n",
    "# Create the Function object\n",
    "def get_random_array(array_shape):\n",
    "\n",
    "    # Import random function\n",
    "    from numpy.random import random\n",
    "   \n",
    "    return random(array_shape)\n",
    "\n",
    "# Create Function Node that executes get_random_array\n",
    "rndArray = Node(Function(input_names=[\"array_shape\"],\n",
    "                         output_names=[\"random_array\"],\n",
    "                         function=get_random_array),\n",
    "                name='rndArray_node')\n",
    "\n",
    "# Specify the array_shape of the random array\n",
    "rndArray.inputs.array_shape = (3, 3)\n",
    "\n",
    "# Run node\n",
    "rndArray.run()\n",
    "\n",
    "# Print output\n",
    "print(rndArray.result.outputs)"
   ]
  },
  {
   "cell_type": "markdown",
   "metadata": {},
   "source": [
    "Now, let's see what happens if we move the import of `random` outside the scope of `get_random_array`:"
   ]
  },
  {
   "cell_type": "code",
   "execution_count": null,
   "metadata": {},
   "outputs": [],
   "source": [
    "from nipype import Node, Function\n",
    "\n",
    "# Import random function\n",
    "from numpy.random import random\n",
    "\n",
    "\n",
    "# Create the Function object\n",
    "def get_random_array(array_shape):\n",
    "  \n",
    "    return random(array_shape)\n",
    "\n",
    "# Create Function Node that executes get_random_array\n",
    "rndArray = Node(Function(input_names=[\"array_shape\"],\n",
    "                         output_names=[\"random_array\"],\n",
    "                         function=get_random_array),\n",
    "                name='rndArray_node')\n",
    "\n",
    "# Specify the array_shape of the random array\n",
    "rndArray.inputs.array_shape = (3, 3)\n",
    "\n",
    "# Run node\n",
    "try:\n",
    "    rndArray.run()\n",
    "except(NameError) as err:\n",
    "    print(\"NameError:\", err)\n",
    "else:\n",
    "    raise"
   ]
  },
  {
   "cell_type": "markdown",
   "metadata": {},
   "source": [
    "As you can see, if we don't import `random` inside the scope of the function, we receive the following error:\n",
    "\n",
    "    NameError: global name 'random' is not defined\n",
    "    Interface Function failed to run. "
   ]
  }
 ],
 "metadata": {
  "anaconda-cloud": {},
  "kernelspec": {
   "display_name": "Python [default]",
   "language": "python",
   "name": "python3"
  },
  "language_info": {
   "codemirror_mode": {
    "name": "ipython",
    "version": 3
   },
   "file_extension": ".py",
   "mimetype": "text/x-python",
   "name": "python",
   "nbconvert_exporter": "python",
   "pygments_lexer": "ipython3",
   "version": "3.6.5"
  }
 },
 "nbformat": 4,
 "nbformat_minor": 2
}
